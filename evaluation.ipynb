{
 "cells": [
  {
   "cell_type": "markdown",
   "metadata": {},
   "source": [
    "## Evaluation\n",
    "\n",
    "This notebook evaluates the performance of MIRO across various simulated datasets.\n",
    "\n",
    "We use the `calculate_metrics_for_experiments` function to compute the metrics reported in the manuscript and summarized in Table 1. This function, implemented in the metrics.py file, returns the results in a dictionary format."
   ]
  },
  {
   "cell_type": "code",
   "execution_count": 20,
   "metadata": {},
   "outputs": [],
   "source": [
    "import pandas as pd\n",
    "import lib\n",
    "\n",
    "# Define the path to the results file\n",
    "# All results are stored in the 'results' folder.\n",
    "path = \"results/rings_results.csv\"\n",
    "\n",
    "# Load the results data into a Pandas DataFrame.\n",
    "data = pd.read_csv(path)\n",
    "\n",
    "# Calculate the metrics for the experiments.\n",
    "results = lib.calculate_metrics_for_experiments(data)"
   ]
  },
  {
   "cell_type": "markdown",
   "metadata": {},
   "source": [
    "Let's print the average metrics for the entire test set."
   ]
  },
  {
   "cell_type": "code",
   "execution_count": 21,
   "metadata": {},
   "outputs": [
    {
     "data": {
      "text/html": [
       "<div>\n",
       "<style scoped>\n",
       "    .dataframe tbody tr th:only-of-type {\n",
       "        vertical-align: middle;\n",
       "    }\n",
       "\n",
       "    .dataframe tbody tr th {\n",
       "        vertical-align: top;\n",
       "    }\n",
       "\n",
       "    .dataframe thead th {\n",
       "        text-align: right;\n",
       "    }\n",
       "</style>\n",
       "<table border=\"1\" class=\"dataframe\">\n",
       "  <thead>\n",
       "    <tr style=\"text-align: right;\">\n",
       "      <th></th>\n",
       "      <th>DBSCAN</th>\n",
       "      <th>MIRO</th>\n",
       "    </tr>\n",
       "  </thead>\n",
       "  <tbody>\n",
       "    <tr>\n",
       "      <th>IoU_values</th>\n",
       "      <td>0.68</td>\n",
       "      <td>0.95</td>\n",
       "    </tr>\n",
       "    <tr>\n",
       "      <th>ARI_values</th>\n",
       "      <td>0.33</td>\n",
       "      <td>0.82</td>\n",
       "    </tr>\n",
       "    <tr>\n",
       "      <th>ARI_c_values</th>\n",
       "      <td>0.34</td>\n",
       "      <td>0.86</td>\n",
       "    </tr>\n",
       "    <tr>\n",
       "      <th>ARI_dagger_values</th>\n",
       "      <td>0.69</td>\n",
       "      <td>0.85</td>\n",
       "    </tr>\n",
       "    <tr>\n",
       "      <th>AMI_values</th>\n",
       "      <td>0.73</td>\n",
       "      <td>0.91</td>\n",
       "    </tr>\n",
       "    <tr>\n",
       "      <th>JIc_values</th>\n",
       "      <td>0.55</td>\n",
       "      <td>0.99</td>\n",
       "    </tr>\n",
       "    <tr>\n",
       "      <th>RMSRE_N_values</th>\n",
       "      <td>1.18</td>\n",
       "      <td>0.11</td>\n",
       "    </tr>\n",
       "    <tr>\n",
       "      <th>RMSE_centr_values</th>\n",
       "      <td>0.15</td>\n",
       "      <td>0.05</td>\n",
       "    </tr>\n",
       "  </tbody>\n",
       "</table>\n",
       "</div>"
      ],
      "text/plain": [
       "                   DBSCAN  MIRO\n",
       "IoU_values           0.68  0.95\n",
       "ARI_values           0.33  0.82\n",
       "ARI_c_values         0.34  0.86\n",
       "ARI_dagger_values    0.69  0.85\n",
       "AMI_values           0.73  0.91\n",
       "JIc_values           0.55  0.99\n",
       "RMSRE_N_values       1.18  0.11\n",
       "RMSE_centr_values    0.15  0.05"
      ]
     },
     "execution_count": 21,
     "metadata": {},
     "output_type": "execute_result"
    }
   ],
   "source": [
    "# Compute the average metrics by class names, grouping by 'class_names' and method (e.g., MIRO or DBSCAN).\n",
    "# The mean is calculated, and the results are rounded to two decimal places for clarity.\n",
    "aresults = results.groupby('class_names').mean().reset_index().round(2)\n",
    "\n",
    "# Drop the 'experiment' column as it is not needed for this summary.\n",
    "aresults = aresults.drop(columns=['experiment'])\n",
    "\n",
    "# Set 'class_names' as the index and transpose the DataFrame for improved readability in visualization.\n",
    "aresults = aresults.set_index('class_names').transpose()\n",
    "aresults.columns.name = None\n",
    "\n",
    "# Display the transposed DataFrame.\n",
    "aresults"
   ]
  }
 ],
 "metadata": {
  "kernelspec": {
   "display_name": "Python 3 (ipykernel)",
   "language": "python",
   "name": "python3"
  },
  "language_info": {
   "codemirror_mode": {
    "name": "ipython",
    "version": 3
   },
   "file_extension": ".py",
   "mimetype": "text/x-python",
   "name": "python",
   "nbconvert_exporter": "python",
   "pygments_lexer": "ipython3",
   "version": "3.10.12"
  }
 },
 "nbformat": 4,
 "nbformat_minor": 2
}
